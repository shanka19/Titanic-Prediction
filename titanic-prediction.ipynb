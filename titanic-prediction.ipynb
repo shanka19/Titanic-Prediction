{
 "cells": [
  {
   "cell_type": "markdown",
   "metadata": {
    "_cell_guid": "b1076dfc-b9ad-4769-8c92-a6c4dae69d19",
    "_uuid": "8f2839f25d086af736a60e9eeb907d3b93b6e0e5"
   },
   "source": [
    "# Titanic Prediction\n",
    "\n",
    "The aim is to build a classification model to predict if a passenger would survive the titanic disaster or not. The dataset has features pertaining to each passenger which include details like gender, the class they travelled by, fare paid etc. The entire code is split into 5 sections which include loading data, feature engineering, exploratory data analysis, model building and testing."
   ]
  },
  {
   "cell_type": "markdown",
   "metadata": {},
   "source": [
    "## Section - 1: Loading Libraries and Data"
   ]
  },
  {
   "cell_type": "code",
   "execution_count": 26,
   "metadata": {
    "_cell_guid": "79c7e3d0-c299-4dcb-8224-4455121ee9b0",
    "_uuid": "d629ff2d2480ee46fbb7e2d37f6b5fab8052498a"
   },
   "outputs": [],
   "source": [
    "import numpy as np\n",
    "import pandas as pd\n",
    "import matplotlib.pyplot as plt\n",
    "import seaborn as sns\n",
    "\n",
    "from sklearn.preprocessing import MinMaxScaler\n",
    "from sklearn.impute import KNNImputer\n",
    "from sklearn.model_selection import train_test_split\n",
    "from sklearn.metrics import mean_squared_error, accuracy_score\n",
    "from sklearn.linear_model import LogisticRegression\n",
    "from xgboost import XGBClassifier\n",
    "from sklearn.svm import SVC\n",
    "from sklearn.neighbors import KNeighborsClassifier\n",
    "from sklearn.model_selection import KFold, StratifiedKFold, cross_val_score\n",
    "from sklearn.ensemble import RandomForestClassifier, VotingClassifier, StackingClassifier\n",
    "\n",
    "from statistics import mean, stdev\n",
    "from math import sqrt\n",
    "\n",
    "import pickle"
   ]
  },
  {
   "cell_type": "code",
   "execution_count": 8,
   "metadata": {},
   "outputs": [
    {
     "name": "stdout",
     "output_type": "stream",
     "text": [
      "   PassengerId  Survived  Pclass  \\\n",
      "0            1         0       3   \n",
      "1            2         1       1   \n",
      "2            3         1       3   \n",
      "3            4         1       1   \n",
      "4            5         0       3   \n",
      "\n",
      "                                                Name     Sex   Age  SibSp  \\\n",
      "0                            Braund, Mr. Owen Harris    male  22.0      1   \n",
      "1  Cumings, Mrs. John Bradley (Florence Briggs Th...  female  38.0      1   \n",
      "2                             Heikkinen, Miss. Laina  female  26.0      0   \n",
      "3       Futrelle, Mrs. Jacques Heath (Lily May Peel)  female  35.0      1   \n",
      "4                           Allen, Mr. William Henry    male  35.0      0   \n",
      "\n",
      "   Parch            Ticket     Fare Cabin Embarked  \n",
      "0      0         A/5 21171   7.2500   NaN        S  \n",
      "1      0          PC 17599  71.2833   C85        C  \n",
      "2      0  STON/O2. 3101282   7.9250   NaN        S  \n",
      "3      0            113803  53.1000  C123        S  \n",
      "4      0            373450   8.0500   NaN        S   Snapshot of training data\n"
     ]
    }
   ],
   "source": [
    "### Loading the training and testing datasets\n",
    "train = pd.read_csv('input/train.csv',sep = ',')\n",
    "test = pd.read_csv('input/test.csv',sep = ',')\n",
    "print(train.head(),\"Snapshot of training data\")"
   ]
  },
  {
   "cell_type": "markdown",
   "metadata": {},
   "source": [
    "Survival variable is the response variable and the rest are predictor variables. Out of the predictor variables Passenger ID, Passenger Name and Ticket Number probably do not matter or help in predicting if they would survive or not. We also create a new feature called Members which represents the total number of dependents/members a passenger has.  \n"
   ]
  },
  {
   "cell_type": "code",
   "execution_count": 9,
   "metadata": {},
   "outputs": [],
   "source": [
    "total = train['SibSp'] + train['Parch']\n",
    "train['Members'] = total\n",
    "total = test['SibSp'] + test['Parch']\n",
    "test['Members'] = total\n",
    "\n",
    "train = train[['Survived','Pclass','Sex','Age','Members','Cabin','Embarked','Fare']]\n",
    "test = test[['Pclass','Sex','Age','Members','Cabin','Embarked','Fare']]\n",
    "\n",
    "train = train.dropna(subset = ['Embarked'])\n",
    "\n",
    "### One Hot Encoding the variables\n",
    "train = pd.concat([train,train.Sex.str.get_dummies()],axis =1)\n",
    "train = pd.concat([train,train.Embarked.str.get_dummies()],axis =1)\n",
    "test = pd.concat([test,test.Sex.str.get_dummies()],axis=1)\n",
    "test = pd.concat([test,test.Embarked.str.get_dummies()],axis =1)"
   ]
  },
  {
   "cell_type": "code",
   "execution_count": 10,
   "metadata": {},
   "outputs": [
    {
     "name": "stdout",
     "output_type": "stream",
     "text": [
      "Number of NA values in each column:\n",
      "Survived      0\n",
      "Pclass        0\n",
      "Sex           0\n",
      "Age         177\n",
      "Members       0\n",
      "Cabin       687\n",
      "Embarked      0\n",
      "Fare          0\n",
      "female        0\n",
      "male          0\n",
      "C             0\n",
      "Q             0\n",
      "S             0\n",
      "dtype: int64\n",
      "    Survived  Pclass     Sex  Age  Members Cabin Embarked     Fare  female  \\\n",
      "5          0       3    male  NaN        0   NaN        Q   8.4583       0   \n",
      "17         1       2    male  NaN        0   NaN        S  13.0000       0   \n",
      "19         1       3  female  NaN        0   NaN        C   7.2250       1   \n",
      "26         0       3    male  NaN        0   NaN        C   7.2250       0   \n",
      "28         1       3  female  NaN        0   NaN        Q   7.8792       1   \n",
      "\n",
      "    male  C  Q  S  \n",
      "5      1  0  1  0  \n",
      "17     1  0  0  1  \n",
      "19     0  1  0  0  \n",
      "26     1  1  0  0  \n",
      "28     0  0  1  0  \n"
     ]
    }
   ],
   "source": [
    "### Checking for NA values in the dataset and dealing with them\n",
    "print(\"Number of NA values in each column:\")\n",
    "print(train.isnull().sum(axis = 0))\n",
    "train_data = train\n",
    "actual_test_data = test\n",
    "train_data_only_na_values = train_data[np.isnan(train_data.Age)]\n",
    "print(train_data_only_na_values.head())"
   ]
  },
  {
   "cell_type": "code",
   "execution_count": 29,
   "metadata": {},
   "outputs": [
    {
     "name": "stdout",
     "output_type": "stream",
     "text": [
      "Number of people survived:  52\n",
      "Number of people not survived:  125\n"
     ]
    },
    {
     "data": {
      "text/plain": [
       "Text(0.5, 1.0, 'Count Plot of Survived People according to embarkment point')"
      ]
     },
     "execution_count": 29,
     "metadata": {},
     "output_type": "execute_result"
    },
    {
     "data": {
      "image/png": "[encoded data removed]",
      "text/plain": [
       "<Figure size 1800x360 with 4 Axes>"
      ]
     },
     "metadata": {
      "needs_background": "light"
     },
     "output_type": "display_data"
    }
   ],
   "source": [
    "### Plotting details about data pertaining to column where Age is missing\n",
    "fig, (ax1, ax2, ax3,ax4) = plt.subplots(1,4,figsize=(25,5))\n",
    "sns.countplot(x='Survived',data=train_data_only_na_values,ax=ax1)\n",
    "ax1.set_title('Count Plot of Survived')\n",
    "print(\"Number of people survived: \",np.count_nonzero(train_data_only_na_values[['Survived']]))\n",
    "print(\"Number of people not survived: \",np.count_nonzero(train_data_only_na_values[['Survived']]==0))\n",
    "\n",
    "### Looking at the percentage of samples from each class it does not seem like there is a class imbalance\n",
    "\n",
    "### Plot - 2 is going to show us the distribution of the survival variable with respect to other categorical variables\n",
    "sns.countplot(x='Sex',hue='Survived',data=train_data_only_na_values,ax=ax2)\n",
    "ax2.set_title('Count Plot of Gender Wise Survived People')\n",
    "sns.countplot(x='Pclass',hue='Survived',data=train_data_only_na_values,ax=ax3)\n",
    "ax3.set_title('Count Plot of Class Wise Survived People')\n",
    "sns.countplot(x='Embarked',hue='Survived',data=train_data_only_na_values,ax=ax4)\n",
    "ax4.set_title('Count Plot of Survived People according to embarkment point')"
   ]
  },
  {
   "cell_type": "markdown",
   "metadata": {},
   "source": [
    "Based on the plots below the values of age seem to be missing at random and do not seem to exhibit any specific pattern. Hence we can proceed forward with imputation techniques\n",
    "We will be using the KNN imputation technique."
   ]
  },
  {
   "cell_type": "markdown",
   "metadata": {},
   "source": [
    "## Section - 2: Splitting Train Data and Missing Data Imputation"
   ]
  },
  {
   "cell_type": "code",
   "execution_count": 11,
   "metadata": {},
   "outputs": [
    {
     "name": "stdout",
     "output_type": "stream",
     "text": [
      "     Pclass   Age  Members   Fare  female  male  C  Q  S\n",
      "669       1   NaN        1  52.00       1     0  0  0  1\n",
      "427       2  19.0        0  26.00       1     0  0  0  1\n",
      "417       2  18.0        2  13.00       1     0  0  0  1\n",
      "558       1  39.0        2  79.65       1     0  0  0  1\n",
      "271       3  25.0        0   0.00       0     1  0  0  1\n"
     ]
    }
   ],
   "source": [
    "scaler = MinMaxScaler()\n",
    "\n",
    "### Splitting the training dataset itself into another train and test to check which model is the best model\n",
    "train_data, test_data, y_train, y_test = train_test_split(train_data.loc[:, train_data.columns != 'Survived'],\n",
    "                                                          train_data[['Survived']],test_size = 0.2,random_state = 1234)\n",
    "### We will drop the columns Sex and Embarked since they are already one-hot encoded\n",
    "train_data = train_data.drop(['Sex'],axis=1)\n",
    "train_data = train_data.drop(['Embarked'],axis=1)\n",
    "\n",
    "test_data = test_data.drop(['Sex'],axis=1)\n",
    "test_data = test_data.drop(['Embarked'],axis=1)\n",
    "\n",
    "### We will drop the Cabin column since more than 60% of the values are missing in the column\n",
    "train_data = train_data.drop(['Cabin'],axis=1)\n",
    "print(train_data.head())\n",
    "test_data = test_data.drop(['Cabin'],axis=1)\n",
    "train_data_scaled = pd.DataFrame(scaler.fit_transform(train_data), columns = train_data.columns)\n",
    "test_data  = pd.DataFrame(scaler.fit_transform(test_data), columns = test_data.columns)"
   ]
  },
  {
   "cell_type": "code",
   "execution_count": 12,
   "metadata": {},
   "outputs": [
    {
     "name": "stdout",
     "output_type": "stream",
     "text": [
      "     Pclass       Age  Members      Fare  female  male    C    Q    S\n",
      "0       0.0  0.487107      0.1  0.101497     1.0   0.0  0.0  0.0  1.0\n",
      "1       0.5  0.263247      0.0  0.050749     1.0   0.0  0.0  0.0  1.0\n",
      "2       0.5  0.249079      0.2  0.025374     1.0   0.0  0.0  0.0  1.0\n",
      "3       0.0  0.546614      0.2  0.155466     1.0   0.0  0.0  0.0  1.0\n",
      "4       1.0  0.348257      0.0  0.000000     0.0   1.0  0.0  0.0  1.0\n",
      "5       0.0  0.674129      0.1  0.077294     1.0   0.0  1.0  0.0  0.0\n",
      "6       0.5  0.178237      0.1  0.038061     1.0   0.0  0.0  0.0  1.0\n",
      "7       1.0  0.334089      0.2  0.032596     1.0   0.0  0.0  0.0  1.0\n",
      "8       0.5  0.631624      0.0  0.026350     1.0   0.0  0.0  0.0  1.0\n",
      "9       1.0  0.390762      0.2  0.028107     1.0   0.0  0.0  0.0  1.0\n",
      "10      0.0  0.617455      0.1  0.113168     1.0   0.0  1.0  0.0  0.0\n",
      "11      1.0  0.263247      0.0  0.015924     0.0   1.0  0.0  0.0  1.0\n",
      "12      0.0  0.532445      0.0  0.444099     1.0   0.0  1.0  0.0  0.0\n",
      "13      1.0  0.376594      0.2  0.021731     1.0   0.0  0.0  0.0  1.0\n",
      "14      0.0  0.234911      0.1  0.111257     1.0   0.0  0.0  0.0  1.0\n",
      "15      0.0  0.900822      0.0  0.050749     0.0   1.0  0.0  0.0  1.0\n",
      "16      0.0  0.688297      0.0  0.050610     1.0   0.0  0.0  0.0  1.0\n",
      "17      0.5  0.376594      0.0  0.025374     0.0   1.0  0.0  0.0  1.0\n",
      "18      1.0  0.404931      0.4  0.041136     1.0   0.0  0.0  0.0  1.0\n",
      "19      1.0  0.334089      0.0  0.028302     0.0   1.0  0.0  0.0  1.0\n",
      "20      0.5  0.532445      0.0  0.025374     1.0   0.0  0.0  0.0  1.0\n",
      "21      1.0  0.291584      0.0  0.015225     0.0   1.0  0.0  0.0  1.0\n",
      "22      1.0  0.355341      0.3  0.045771     1.0   0.0  0.0  0.0  1.0\n",
      "23      0.0  0.603287      0.1  0.412503     1.0   0.0  0.0  0.0  1.0\n",
      "24      0.5  0.801644      0.0  0.020495     1.0   0.0  0.0  0.0  1.0\n",
      "25      0.5  0.433267      0.2  0.051237     0.0   1.0  0.0  0.0  1.0\n",
      "26      0.0  0.815812      0.0  0.285990     1.0   0.0  1.0  0.0  0.0\n",
      "27      1.0  0.022386      0.6  0.061045     1.0   0.0  0.0  0.0  1.0\n",
      "28      1.0  0.008218      0.2  0.021731     1.0   0.0  0.0  0.0  1.0\n",
      "29      0.5  0.504109      0.0  0.025374     1.0   0.0  0.0  0.0  1.0\n",
      "..      ...       ...      ...       ...     ...   ...  ...  ...  ...\n",
      "681     1.0  0.220742      0.0  0.015176     0.0   1.0  0.0  0.0  1.0\n",
      "682     1.0  0.319921      0.0  0.015412     0.0   1.0  0.0  0.0  1.0\n",
      "683     1.0  0.378719      0.0  0.015713     0.0   1.0  0.0  0.0  1.0\n",
      "684     0.5  0.589119      0.1  0.050749     1.0   0.0  0.0  0.0  1.0\n",
      "685     1.0  0.378719      0.0  0.015713     0.0   1.0  0.0  0.0  1.0\n",
      "686     0.5  0.334089      0.2  0.028302     1.0   0.0  0.0  0.0  1.0\n",
      "687     1.0  0.361009      0.0  0.015412     0.0   1.0  0.0  0.0  1.0\n",
      "688     0.0  0.574950      0.0  0.262527     1.0   0.0  1.0  0.0  0.0\n",
      "689     1.0  0.858317      0.0  0.012175     0.0   1.0  0.0  0.0  1.0\n",
      "690     1.0  0.404931      0.1  0.013752     0.0   1.0  0.0  0.0  1.0\n",
      "691     1.0  0.378719      0.0  0.015713     0.0   1.0  0.0  0.0  1.0\n",
      "692     0.5  0.390762      0.0  0.025374     1.0   0.0  0.0  0.0  1.0\n",
      "693     0.0  0.573534      0.1  0.160387     1.0   0.0  1.0  0.0  0.0\n",
      "694     0.5  0.546614      0.0  0.025374     0.0   1.0  0.0  0.0  1.0\n",
      "695     1.0  0.433267      0.0  0.015127     0.0   1.0  0.0  1.0  0.0\n",
      "696     1.0  0.154151      1.0  0.135753     0.0   1.0  0.0  0.0  1.0\n",
      "697     0.5  0.844148      0.2  0.076123     0.0   1.0  0.0  0.0  1.0\n",
      "698     0.0  0.560782      0.0  0.054107     0.0   1.0  1.0  0.0  0.0\n",
      "699     0.0  0.716634      0.1  0.119804     0.0   1.0  1.0  0.0  0.0\n",
      "700     0.5  0.334089      0.0  0.020495     0.0   1.0  0.0  0.0  1.0\n",
      "701     1.0  0.914990      0.0  0.015127     0.0   1.0  0.0  1.0  0.0\n",
      "702     0.0  0.433267      0.1  0.111257     0.0   1.0  0.0  0.0  1.0\n",
      "703     1.0  0.361009      0.0  0.015412     0.0   1.0  0.0  0.0  1.0\n",
      "704     0.5  0.447436      0.2  0.143462     0.0   1.0  0.0  0.0  1.0\n",
      "705     0.0  0.305752      0.0  0.264739     0.0   1.0  1.0  0.0  0.0\n",
      "706     1.0  0.022386      0.1  0.020421     1.0   0.0  0.0  0.0  1.0\n",
      "707     0.5  0.404931      0.1  0.050749     1.0   0.0  0.0  0.0  1.0\n",
      "708     0.0  0.623123      0.0  0.054107     0.0   1.0  1.0  0.0  0.0\n",
      "709     0.0  0.376594      0.1  0.103644     0.0   1.0  0.0  0.0  1.0\n",
      "710     1.0  0.319921      0.0  0.015469     1.0   0.0  0.0  0.0  1.0\n",
      "\n",
      "[711 rows x 9 columns]\n",
      "     Pclass       Age   Members      Fare  female  male    C    Q    S\n",
      "0       0.5  0.265823  0.428571  0.167983     1.0   0.0  1.0  0.0  0.0\n",
      "1       1.0  0.405063  0.000000  0.031900     0.0   1.0  0.0  0.0  1.0\n",
      "2       1.0  0.493671  0.142857  0.038280     1.0   0.0  0.0  0.0  1.0\n",
      "3       0.0  0.405063  0.142857  0.214527     1.0   0.0  0.0  0.0  1.0\n",
      "4       1.0  0.493671  0.000000  0.029189     0.0   1.0  1.0  0.0  0.0\n",
      "5       1.0  0.544304  0.142857  0.065045     0.0   1.0  0.0  0.0  1.0\n",
      "6       0.0  0.278481  0.142857  0.457638     1.0   0.0  1.0  0.0  0.0\n",
      "7       1.0  0.322785  0.000000  0.030502     1.0   0.0  0.0  0.0  1.0\n",
      "8       0.0  1.000000  0.000000  0.121202     0.0   1.0  0.0  0.0  1.0\n",
      "9       1.0  0.322785  0.000000  0.029206     0.0   1.0  1.0  0.0  0.0\n",
      "10      0.5  0.398734  0.000000  0.052521     1.0   0.0  0.0  0.0  1.0\n",
      "11      0.5  0.215190  0.000000  0.052521     0.0   1.0  0.0  0.0  1.0\n",
      "12      1.0  0.291139  0.000000  0.031496     0.0   1.0  0.0  0.0  1.0\n",
      "13      1.0  0.350633  0.000000  0.031226     0.0   1.0  0.0  1.0  0.0\n",
      "14      1.0  0.291139  0.000000  0.038381     0.0   1.0  0.0  0.0  1.0\n",
      "15      1.0  0.303797  0.142857  0.031412     0.0   1.0  0.0  0.0  1.0\n",
      "16      0.5  0.025316  0.285714  0.075751     0.0   1.0  0.0  0.0  1.0\n",
      "17      0.0  0.746835  0.285714  0.319973     0.0   1.0  1.0  0.0  0.0\n",
      "18      1.0  0.392405  0.142857  0.064035     0.0   1.0  0.0  0.0  1.0\n",
      "19      1.0  0.303797  0.142857  0.071913     0.0   1.0  0.0  0.0  1.0\n",
      "20      0.0  0.620253  0.000000  0.116000     1.0   0.0  1.0  0.0  0.0\n",
      "21      0.5  0.417722  0.285714  0.131302     1.0   0.0  0.0  0.0  1.0\n",
      "22      1.0  0.354430  0.000000  0.032523     0.0   1.0  0.0  0.0  1.0\n",
      "23      1.0  0.367089  0.000000  0.038381     0.0   1.0  0.0  0.0  1.0\n",
      "24      0.5  0.417722  0.000000  0.052521     0.0   1.0  0.0  0.0  1.0\n",
      "25      0.5  0.417722  0.000000  0.052521     0.0   1.0  0.0  0.0  1.0\n",
      "26      1.0  0.350633  0.000000  0.031310     0.0   1.0  0.0  1.0  0.0\n",
      "27      1.0  0.249367  0.285714  0.093931     1.0   0.0  0.0  1.0  0.0\n",
      "28      0.0  0.177215  0.142857  0.853817     1.0   0.0  0.0  0.0  1.0\n",
      "29      1.0  0.367089  0.000000  0.050400     1.0   0.0  0.0  0.0  1.0\n",
      "..      ...       ...       ...       ...     ...   ...  ...  ...  ...\n",
      "148     0.5  0.278481  0.000000  0.042421     0.0   1.0  0.0  0.0  1.0\n",
      "149     0.0  0.379747  0.142857  0.457638     1.0   0.0  1.0  0.0  0.0\n",
      "150     0.0  0.582278  0.000000  0.103375     0.0   1.0  0.0  0.0  1.0\n",
      "151     0.5  0.000000  0.285714  0.149499     0.0   1.0  1.0  0.0  0.0\n",
      "152     0.5  0.354430  0.000000  0.000000     0.0   1.0  0.0  0.0  1.0\n",
      "153     1.0  0.088608  0.571429  0.085144     1.0   0.0  0.0  0.0  1.0\n",
      "154     1.0  0.164557  0.142857  0.045417     1.0   0.0  1.0  0.0  0.0\n",
      "155     0.0  0.606329  0.000000  0.123222     0.0   1.0  0.0  0.0  1.0\n",
      "156     1.0  0.265823  0.000000  0.031496     0.0   1.0  0.0  0.0  1.0\n",
      "157     0.5  0.341772  0.142857  0.133322     0.0   1.0  0.0  0.0  1.0\n",
      "158     0.0  0.455696  0.142857  0.119990     0.0   1.0  1.0  0.0  0.0\n",
      "159     1.0  0.321519  0.142857  0.062621     0.0   1.0  0.0  1.0  0.0\n",
      "160     1.0  0.291139  0.000000  0.028853     0.0   1.0  0.0  0.0  1.0\n",
      "161     0.5  0.050633  0.428571  0.112112     1.0   0.0  0.0  0.0  1.0\n",
      "162     0.0  0.265823  0.142857  0.222204     1.0   0.0  0.0  0.0  1.0\n",
      "163     0.5  0.341772  0.000000  0.052521     0.0   1.0  0.0  0.0  1.0\n",
      "164     1.0  0.000000  0.428571  0.083124     0.0   1.0  0.0  0.0  1.0\n",
      "165     1.0  0.544304  0.000000  0.032523     0.0   1.0  0.0  0.0  1.0\n",
      "166     1.0  0.332278  0.000000  0.228247     0.0   1.0  0.0  0.0  1.0\n",
      "167     1.0  0.000000  0.714286  0.160340     0.0   1.0  0.0  0.0  1.0\n",
      "168     0.5  0.303797  0.000000  0.052521     0.0   1.0  0.0  0.0  1.0\n",
      "169     1.0  0.189873  0.000000  0.031310     1.0   0.0  0.0  1.0  0.0\n",
      "170     1.0  0.279747  0.142857  0.062621     1.0   0.0  0.0  1.0  0.0\n",
      "171     1.0  0.341772  0.000000  0.038381     0.0   1.0  0.0  0.0  1.0\n",
      "172     1.0  0.341772  0.000000  0.031900     0.0   1.0  0.0  0.0  1.0\n",
      "173     1.0  0.350633  0.000000  0.031209     0.0   1.0  0.0  1.0  0.0\n",
      "174     1.0  0.253165  0.142857  0.039694     1.0   0.0  0.0  0.0  1.0\n",
      "175     1.0  0.202532  0.142857  0.028499     0.0   1.0  0.0  0.0  1.0\n",
      "176     1.0  0.341772  0.000000  0.031900     1.0   0.0  0.0  0.0  1.0\n",
      "177     1.0  0.350633  0.000000  0.031310     0.0   1.0  0.0  1.0  0.0\n",
      "\n",
      "[178 rows x 9 columns]\n"
     ]
    }
   ],
   "source": [
    "### KNN Imputation Technique to impute NA values of the Age column\n",
    "imputer = KNNImputer(n_neighbors=10)\n",
    "new_train_data = pd.DataFrame(imputer.fit_transform(train_data_scaled),columns = train_data_scaled.columns)\n",
    "print(new_train_data)\n",
    "\n",
    "### Imputation of Values in Test Data\n",
    "test_data = pd.DataFrame(imputer.fit_transform(test_data),columns = test_data.columns)\n",
    "print(test_data)"
   ]
  },
  {
   "cell_type": "markdown",
   "metadata": {},
   "source": [
    "# Section - 3: Exploratory Data Analysis (EDA)"
   ]
  },
  {
   "cell_type": "code",
   "execution_count": 32,
   "metadata": {
    "collapsed": true
   },
   "outputs": [
    {
     "name": "stdout",
     "output_type": "stream",
     "text": [
      "   Pclass   Age  Members       Fare  female  male    C    Q    S     Sex  \\\n",
      "0     1.0  39.0      1.0  25.122678     1.0   0.0  0.0  0.0  1.0  Female   \n",
      "1     2.0  22.0      1.0  12.561339     1.0   0.0  0.0  0.0  1.0  Female   \n",
      "2     2.0  21.0      0.0   6.280670     1.0   0.0  0.0  0.0  1.0  Female   \n",
      "3     1.0  44.0      1.0  38.481179     1.0   0.0  0.0  0.0  1.0  Female   \n",
      "4     3.0  29.0      0.0   0.000000     0.0   1.0  0.0  0.0  1.0    Male   \n",
      "\n",
      "  Embarked  Survived  \n",
      "0        S       0.0  \n",
      "1        S       1.0  \n",
      "2        S       1.0  \n",
      "3        S       1.0  \n",
      "4        S       0.0  \n"
     ]
    }
   ],
   "source": [
    "### We will inverse our transform to plot for EDA\n",
    "train_data_final = pd.DataFrame(scaler.inverse_transform(new_train_data),columns = new_train_data.columns)\n",
    "\n",
    "train_data_final[['Sex']] = 'Male'\n",
    "idx = train_data_final.index[train_data_final['male']==0.0]\n",
    "train_data_final.loc[idx,'Sex'] = 'Female'\n",
    "\n",
    "train_data_final[['Embarked']] = 'C'\n",
    "idx = train_data_final.index[(train_data_final['C']==0.0) & (train_data_final['Q']==0.0)]\n",
    "train_data_final.loc[idx,'Embarked'] = 'S'\n",
    "idx = train_data_final.index[(train_data_final['C']==0.0) & (train_data_final['S']==0.0)]\n",
    "train_data_final.loc[idx,'Embarked'] = 'Q'\n",
    "train_data_final[['Survived']] = y_train\n",
    "train_data_final[['Age']] = np.round(train_data_final[['Age']],0)\n",
    "train_data_final[['Members']] = train_data[['Members']]\n",
    "print(train_data_final.head())"
   ]
  },
  {
   "cell_type": "code",
   "execution_count": 33,
   "metadata": {},
   "outputs": [
    {
     "name": "stdout",
     "output_type": "stream",
     "text": [
      "Number of people survived:  367\n",
      "Number of people not survived:  344\n"
     ]
    },
    {
     "data": {
      "text/plain": [
       "Text(0.5, 1.0, 'Count Plot of Survived People depending on accompanying members')"
      ]
     },
     "execution_count": 33,
     "metadata": {},
     "output_type": "execute_result"
    },
    {
     "data": {
      "image/png": "[encoded data removed]",
      "text/plain": [
       "<Figure size 1800x360 with 4 Axes>"
      ]
     },
     "metadata": {
      "needs_background": "light"
     },
     "output_type": "display_data"
    },
    {
     "data": {
      "image/png": "[encoded data removed]",
      "text/plain": [
       "<Figure size 1080x360 with 1 Axes>"
      ]
     },
     "metadata": {
      "needs_background": "light"
     },
     "output_type": "display_data"
    }
   ],
   "source": [
    "fig, (ax1, ax2, ax3,ax4) = plt.subplots(1,4,figsize=(25,5))\n",
    "sns.countplot(x='Survived',data=train_data_final[['Survived']],ax=ax1)\n",
    "ax1.set_title('Count Plot of Survived')\n",
    "print(\"Number of people survived: \",np.count_nonzero(train_data_final[['Survived']]))\n",
    "print(\"Number of people not survived: \",np.count_nonzero(train_data_final[['Survived']]==0))\n",
    "\n",
    "sns.countplot(x='Sex',hue='Survived',data=train_data_final,ax=ax2)\n",
    "ax2.set_title('Count Plot of Gender Wise Survived People')\n",
    "sns.countplot(x='Pclass',hue='Survived',data=train_data_final,ax=ax3)\n",
    "ax3.set_title('Count Plot of Class Wise Survived People')\n",
    "sns.countplot(x='Embarked',hue='Survived',data=train_data_final,ax=ax4)\n",
    "ax4.set_title('Count Plot of Survived People depending on departure destination')\n",
    "\n",
    "plt.figure(figsize=(15,5))\n",
    "fig1 = sns.countplot(x='Members',hue='Survived',data=train_data_final)\n",
    "fig1.set_title('Count Plot of Survived People depending on accompanying members')"
   ]
  },
  {
   "cell_type": "markdown",
   "metadata": {},
   "source": [
    "### Plot - 1 is going to show us the distribution of the survival variable\n",
    "Looking at the percentage of samples from each class it does not seem like there is a class imbalance. The percentage distribution of the response variable is roughly 60% and 40%, hence we will not need to modify the training data by using any sampling technique\n",
    "\n",
    "### Plot - 2 is going to show us the distribution of the survival variable with respect to other categorical variables\n",
    "* The first plot shows us the distribution of people survived according to their gender. Looking at the distribution, it seems a large number of males did not survive the disaster. We can hypothesize that children and spouses of the male members might have boarded the rescue boats before the men and hence a lot of men could have died because they could not get on to the rescue boats at the right time\n",
    "* The second plot shows us the distribution of survival according to the class travelled. A large number of people travelling by class 3 did not survive the disaster. \n",
    "* The third plot shows us the distribution of survival according to the departure destination. A large number of people embarking from destination S seem to have not survived the disaster. It is unusual how source of embarkment affects survival. It is possible a lot of members travelling from destination S were males and hence the survival rate seems to be low.\n",
    "* The fourth and final plot is about how the number of members affect survival. A large number of people with no sibilings or spouses seemed to have not survived the disaster.\n"
   ]
  },
  {
   "cell_type": "code",
   "execution_count": 34,
   "metadata": {},
   "outputs": [
    {
     "data": {
      "text/plain": [
       "<seaborn.axisgrid.FacetGrid at 0x7fc7bcbe35d0>"
      ]
     },
     "execution_count": 34,
     "metadata": {},
     "output_type": "execute_result"
    },
    {
     "data": {
      "text/plain": [
       "<Figure size 432x288 with 0 Axes>"
      ]
     },
     "metadata": {},
     "output_type": "display_data"
    },
    {
     "data": {
      "image/png": "[encoded data removed]",
      "text/plain": [
       "<Figure size 772x360 with 2 Axes>"
      ]
     },
     "metadata": {
      "needs_background": "light"
     },
     "output_type": "display_data"
    },
    {
     "data": {
      "text/plain": [
       "<Figure size 432x288 with 0 Axes>"
      ]
     },
     "metadata": {},
     "output_type": "display_data"
    },
    {
     "data": {
      "image/png": "[encoded data removed]",
      "text/plain": [
       "<Figure size 778.25x360 with 2 Axes>"
      ]
     },
     "metadata": {
      "needs_background": "light"
     },
     "output_type": "display_data"
    }
   ],
   "source": [
    "### Plot - 3 is going to include 3 variables \n",
    "plt.figure()\n",
    "sns.catplot(x='Sex',hue='Pclass',col='Survived',kind='count',data=train_data_final)\n",
    "plt.figure()\n",
    "sns.catplot(x='Sex',hue='Embarked',col='Survived',kind='count',data=train_data_final)"
   ]
  },
  {
   "cell_type": "code",
   "execution_count": 35,
   "metadata": {},
   "outputs": [
    {
     "data": {
      "image/png": "[encoded data removed]",
      "text/plain": [
       "<Figure size 576x360 with 1 Axes>"
      ]
     },
     "metadata": {
      "needs_background": "light"
     },
     "output_type": "display_data"
    },
    {
     "data": {
      "image/png": "[encoded data removed]",
      "text/plain": [
       "<Figure size 576x360 with 1 Axes>"
      ]
     },
     "metadata": {
      "needs_background": "light"
     },
     "output_type": "display_data"
    },
    {
     "data": {
      "image/png": "[encoded data removed]",
      "text/plain": [
       "<Figure size 576x360 with 1 Axes>"
      ]
     },
     "metadata": {
      "needs_background": "light"
     },
     "output_type": "display_data"
    },
    {
     "data": {
      "text/plain": [
       "<Figure size 576x360 with 0 Axes>"
      ]
     },
     "metadata": {},
     "output_type": "display_data"
    },
    {
     "data": {
      "image/png": "[encoded data removed]",
      "text/plain": [
       "<Figure size 360x360 with 1 Axes>"
      ]
     },
     "metadata": {
      "needs_background": "light"
     },
     "output_type": "display_data"
    }
   ],
   "source": [
    "### Plot - 4 is going to be the distribution of survived with respect to continuous variables like Age and Number of Children/Spouses\n",
    "plt.figure(figsize=(8,5))\n",
    "fig1 = sns.boxplot(x='Survived',y='Age',data=train_data_final)\n",
    "fig1.set_title('Box Plot of Age vs Survived')\n",
    "plt.figure(figsize=(8,5))\n",
    "fig2 = sns.boxplot(x='Members',y='Age',hue='Survived',data=train_data_final)\n",
    "fig2.set_title('Scatter plot of Age vs SibSp')\n",
    "plt.figure(figsize=(8,5))\n",
    "fig3 = sns.boxplot(x='Pclass',y='Age',hue='Survived',data=train_data_final)\n",
    "fig3.set_title('Scatter plot of Age vs Passenger Class')\n",
    "plt.figure(figsize=(8,5))\n",
    "fig4 = sns.catplot(x='Survived',y='Age',data=train_data_final)\n",
    "plt.figure(figsize=(8,5))\n",
    "fig5 = sns.catplot(x='Survived',y='Fare',data=train_data_final)"
   ]
  },
  {
   "cell_type": "markdown",
   "metadata": {},
   "source": [
    "# Section - 4: Model Building\n",
    "\n",
    "The general procedure adopted is to first search for hyperparameters using a Random Search method and then fine tune the hyperparamters using a Grid Search"
   ]
  },
  {
   "cell_type": "markdown",
   "metadata": {},
   "source": [
    "## Model - 1: Logistic Regression"
   ]
  },
  {
   "cell_type": "code",
   "execution_count": 15,
   "metadata": {},
   "outputs": [
    {
     "name": "stdout",
     "output_type": "stream",
     "text": [
      "Mean Validation Accuracy: 80.02934272300469 +- 1.9530589318360465\n",
      "Test Data Accuracy:  79.21348314606742\n"
     ]
    }
   ],
   "source": [
    "### We will do a 10 fold cross validation repeated over 5 random seeds. We will then average the results for these 5 random seeds and use the average to compare different models\n",
    "X = new_train_data\n",
    "Y = y_train.values.ravel()\n",
    "\n",
    "logisticRegressionModel = LogisticRegression()\n",
    "logisticRegressionModel.fit(X,Y)\n",
    "cv_results_lr = cross_val_score(logisticRegressionModel,X,Y,cv=KFold(n_splits=10,shuffle=True),scoring='accuracy')\n",
    "print(\"Mean Validation Accuracy:\",mean(cv_results_lr)*100,\"+-\",stdev(cv_results_lr)*100)\n",
    "\n",
    "### Predicting on test data\n",
    "y_pred = logisticRegressionModel.predict(test_data)\n",
    "print(\"Test Data Accuracy: \", accuracy_score(y_test,y_pred)*100)"
   ]
  },
  {
   "cell_type": "markdown",
   "metadata": {},
   "source": [
    "## Model - 2: Random Forests"
   ]
  },
  {
   "cell_type": "code",
   "execution_count": 37,
   "metadata": {},
   "outputs": [
    {
     "name": "stdout",
     "output_type": "stream",
     "text": [
      "{'n_estimators': 200, 'max_features': 'sqrt', 'max_depth': 5}\n"
     ]
    }
   ],
   "source": [
    "from sklearn.ensemble import RandomForestClassifier\n",
    "from sklearn.model_selection import RandomizedSearchCV\n",
    "# Number of trees in random forest\n",
    "n_estimators = [int(x) for x in np.linspace(start = 200, stop = 2000, num = 10)]\n",
    "# Number of features to consider at every split\n",
    "max_features = ['auto', 'sqrt']\n",
    "# Maximum number of levels in tree\n",
    "max_depth = [int(x) for x in np.linspace(5, 50, num = 5)]\n",
    "\n",
    "random_grid = {'n_estimators': n_estimators,\n",
    "               'max_features': max_features,\n",
    "               'max_depth': max_depth}\n",
    "\n",
    "randomForestModel = RandomForestClassifier()\n",
    "rf_random = RandomizedSearchCV(estimator = randomForestModel, scoring = 'accuracy', \n",
    "                               param_distributions = random_grid, n_iter = 100, \n",
    "                               cv = 10,random_state = 123)\n",
    "rf_random.fit(X, Y)\n",
    "print(rf_random.best_params_)"
   ]
  },
  {
   "cell_type": "code",
   "execution_count": 39,
   "metadata": {},
   "outputs": [
    {
     "name": "stdout",
     "output_type": "stream",
     "text": [
      "{'max_depth': 10, 'max_features': 'sqrt', 'n_estimators': 250}\n"
     ]
    }
   ],
   "source": [
    "from sklearn.model_selection import GridSearchCV\n",
    "### We can now try to do a grid search to fine tune the parameters\n",
    "# Number of trees in random forest\n",
    "n_estimators = [int(x) for x in np.linspace(start = 100, stop = 400, num = 5)]\n",
    "# Number of features to consider at every split\n",
    "max_features = ['auto', 'sqrt']\n",
    "# Maximum number of levels in tree\n",
    "max_depth = [int(x) for x in np.linspace(1, 10, num = 5)]\n",
    "\n",
    "random_grid = {'n_estimators': n_estimators,\n",
    "               'max_features': max_features,\n",
    "               'max_depth': max_depth}\n",
    "\n",
    "randomForestModel = RandomForestClassifier()\n",
    "rf_random = GridSearchCV(estimator = randomForestModel, scoring = 'accuracy', \n",
    "                         param_grid = random_grid,\n",
    "                         cv = 10)\n",
    "rf_random.fit(X, Y)\n",
    "print(rf_random.best_params_)"
   ]
  },
  {
   "cell_type": "code",
   "execution_count": 16,
   "metadata": {},
   "outputs": [
    {
     "name": "stdout",
     "output_type": "stream",
     "text": [
      "Mean Accuracy: 81.85054773082942 +- 3.310538892898498\n",
      "81.46067415730337\n"
     ]
    }
   ],
   "source": [
    "randomForestModel = RandomForestClassifier(n_estimators=250,max_depth=10,max_features='sqrt')\n",
    "randomForestModel.fit(X,Y)\n",
    "cv_results_rf = cross_val_score(randomForestModel,X,Y,cv=KFold(n_splits=10,shuffle=True),scoring='accuracy')\n",
    "print(\"Mean Accuracy:\",mean(cv_results_rf)*100,\"+-\",stdev(cv_results_rf)*100)\n",
    "\n",
    "### Predicting on test datammm\n",
    "y_pred = randomForestModel.predict(test_data)\n",
    "print(accuracy_score(y_test,y_pred)*100)"
   ]
  },
  {
   "cell_type": "markdown",
   "metadata": {},
   "source": [
    "## Model - 3: Gradient Boosting Machines (GBM)"
   ]
  },
  {
   "cell_type": "code",
   "execution_count": 41,
   "metadata": {
    "_kg_hide-output": true
   },
   "outputs": [
    {
     "name": "stdout",
     "output_type": "stream",
     "text": [
      "{'n_estimators': 200, 'max_depth': 16}\n"
     ]
    }
   ],
   "source": [
    "gradientBoostingModel = XGBClassifier(objective='binary:logistic')\n",
    "# Number of trees for Gradient Boosting\n",
    "n_estimators = [int(x) for x in np.linspace(start = 200, stop = 2000, num = 10)]\n",
    "# Maximum number of levels in tree\n",
    "max_depth = [int(x) for x in np.linspace(5, 50, num = 5)]\n",
    "\n",
    "random_grid = {'n_estimators': n_estimators,\n",
    "               'max_depth': max_depth}\n",
    "\n",
    "gb_random = RandomizedSearchCV(estimator = gradientBoostingModel, scoring = 'accuracy', \n",
    "                         param_distributions = random_grid, n_jobs=4, n_iter = 50,\n",
    "                         cv = 10, random_state = 123)\n",
    "gb_random.fit(X, Y)\n",
    "print(gb_random.best_params_)"
   ]
  },
  {
   "cell_type": "code",
   "execution_count": 42,
   "metadata": {},
   "outputs": [
    {
     "name": "stdout",
     "output_type": "stream",
     "text": [
      "{'max_depth': 20, 'n_estimators': 180}\n"
     ]
    }
   ],
   "source": [
    "### We can now try to do a grid search to fine tune the parameters\n",
    "from sklearn.model_selection import GridSearchCV\n",
    "# Number of trees for Gradient Boosting\n",
    "n_estimators = [int(x) for x in np.linspace(start = 180, stop = 220, num = 5)]\n",
    "# Number of features to consider at every split\n",
    "max_features = ['auto', 'sqrt']\n",
    "# Maximum number of levels in tree\n",
    "max_depth = [int(x) for x in np.linspace(15, 20, num = 5)]\n",
    "\n",
    "random_grid = {'n_estimators': n_estimators,\n",
    "               'max_depth': max_depth}\n",
    "\n",
    "gradientBoostingModel = XGBClassifier(objective='binary:logistic')\n",
    "gb_random = GridSearchCV(estimator = gradientBoostingModel, scoring = 'accuracy', \n",
    "                         param_grid = random_grid,\n",
    "                         cv = 10)\n",
    "gb_random.fit(X, Y)\n",
    "print(gb_random.best_params_)"
   ]
  },
  {
   "cell_type": "code",
   "execution_count": 17,
   "metadata": {},
   "outputs": [
    {
     "name": "stdout",
     "output_type": "stream",
     "text": [
      "Mean Accuracy: 80.02738654147105 +- 4.688065671730456\n",
      "79.7752808988764\n"
     ]
    }
   ],
   "source": [
    "gradientBoostingModel = XGBClassifier(objective='binary:logistic',n_estimators = 180,max_depth = 20)\n",
    "gradientBoostingModel.fit(X,Y)\n",
    "cv_results_gbm = cross_val_score(gradientBoostingModel,X,Y,cv=KFold(n_splits=10,shuffle=True),scoring='accuracy')\n",
    "print(\"Mean Accuracy:\",mean(cv_results_gbm)*100,\"+-\",stdev(cv_results_gbm)*100)\n",
    "\n",
    "### Predicting on test data\n",
    "y_pred = gradientBoostingModel.predict(test_data)\n",
    "print(accuracy_score(y_test,y_pred)*100)"
   ]
  },
  {
   "cell_type": "markdown",
   "metadata": {},
   "source": [
    "## Model - 4: Support Vector Machines (SVM)"
   ]
  },
  {
   "cell_type": "code",
   "execution_count": 44,
   "metadata": {},
   "outputs": [
    {
     "name": "stdout",
     "output_type": "stream",
     "text": [
      "{'kernel': 'rbf', 'gamma': 'scale', 'C': 0.5}\n"
     ]
    }
   ],
   "source": [
    "from sklearn.model_selection import RandomizedSearchCV\n",
    "### Regularization Parameter for SVM\n",
    "C = [0.1,0.5,0.75,1.0,1.25,1.5,2.0]\n",
    "### Type of Kernel to be used for SVM\n",
    "kernel = ['linear','poly','rbf','sigmoid']\n",
    "gamma = ['auto','scale']\n",
    "\n",
    "svmModel = SVC()\n",
    "random_grid = {'C': C,\n",
    "               'kernel': kernel,\n",
    "               'gamma':gamma}\n",
    "svm_random = RandomizedSearchCV(estimator = svmModel, scoring = 'accuracy', \n",
    "                         param_distributions = random_grid, n_iter = 50,\n",
    "                         cv = 10, random_state = 123)\n",
    "svm_random.fit(X,Y)\n",
    "print(svm_random.best_params_)"
   ]
  },
  {
   "cell_type": "code",
   "execution_count": 46,
   "metadata": {},
   "outputs": [
    {
     "name": "stdout",
     "output_type": "stream",
     "text": [
      "{'C': 0.4545454545454546, 'gamma': 'scale', 'kernel': 'rbf'}\n"
     ]
    }
   ],
   "source": [
    "### Regularization Parameter for SVM\n",
    "C = [float(x) for x in np.linspace(start = 0.1,stop = 1.0,num = 100)]\n",
    "### Type of Kernel to be used for SVM\n",
    "kernel = ['linear','poly','rbf','sigmoid']\n",
    "gamma = ['auto','scale']\n",
    "\n",
    "svmModel = SVC()\n",
    "random_grid = {'C': C,\n",
    "               'kernel': kernel,\n",
    "               'gamma':gamma}\n",
    "svm_random = GridSearchCV(estimator = svmModel, scoring = 'accuracy', \n",
    "                         param_grid = random_grid,\n",
    "                         cv = 10)\n",
    "svm_random.fit(X,Y)\n",
    "print(svm_random.best_params_)"
   ]
  },
  {
   "cell_type": "code",
   "execution_count": 18,
   "metadata": {},
   "outputs": [
    {
     "name": "stdout",
     "output_type": "stream",
     "text": [
      "Mean Accuracy: 80.16040688575899 +- 6.122329446493086\n",
      "79.7752808988764\n"
     ]
    }
   ],
   "source": [
    "svmModel = SVC(C = 0.4546, gamma = 'scale',kernel = 'rbf')\n",
    "svmModel.fit(X,Y)\n",
    "cv_results_svm = cross_val_score(svmModel,X,Y,cv=KFold(n_splits=10,shuffle=True),\n",
    "                                 scoring='accuracy')\n",
    "print(\"Mean Accuracy:\",mean(cv_results_svm)*100,\"+-\",stdev(cv_results_svm)*100)\n",
    "\n",
    "### Predicting on test data\n",
    "y_pred = svmModel.predict(test_data)\n",
    "print(accuracy_score(y_test,y_pred)*100)"
   ]
  },
  {
   "cell_type": "markdown",
   "metadata": {},
   "source": [
    "## Model - 5: K-Nearest Neighbours (KNN)"
   ]
  },
  {
   "cell_type": "code",
   "execution_count": 48,
   "metadata": {},
   "outputs": [
    {
     "name": "stdout",
     "output_type": "stream",
     "text": [
      "{'weights': 'uniform', 'n_neighbors': 43, 'leaf_size': 8}\n"
     ]
    }
   ],
   "source": [
    "### Number of nearest neighbours parameter for KNN\n",
    "n_neighbors = [int(x) for x in np.linspace(start = 1, stop = 50, num = 50)]\n",
    "### Weight of neighbours\n",
    "weights = ['uniform','distance']\n",
    "leaf_size = [int(x) for x in np.linspace(start = 1, stop = 100, num = 100)]\n",
    "knnModel = KNeighborsClassifier()\n",
    "random_grid = {'n_neighbors': n_neighbors,\n",
    "               'weights': weights,\n",
    "               'leaf_size': leaf_size}\n",
    "knn_random = RandomizedSearchCV(estimator = knnModel, scoring = 'accuracy', \n",
    "                         param_distributions = random_grid, n_iter = 500,\n",
    "                         cv = 10, random_state = 123)\n",
    "knn_random.fit(X,Y)\n",
    "print(knn_random.best_params_)"
   ]
  },
  {
   "cell_type": "code",
   "execution_count": 49,
   "metadata": {},
   "outputs": [
    {
     "name": "stdout",
     "output_type": "stream",
     "text": [
      "{'leaf_size': 1, 'n_neighbors': 43, 'weights': 'uniform'}\n"
     ]
    }
   ],
   "source": [
    "n_neighbors = [int(x) for x in np.linspace(start = 30, stop = 60, num = 30)]\n",
    "### Weight of neighbours\n",
    "weights = ['uniform','distance']\n",
    "leaf_size = [int(x) for x in np.linspace(start = 1, stop = 10, num = 10)]\n",
    "knnModel = KNeighborsClassifier()\n",
    "random_grid = {'n_neighbors': n_neighbors,\n",
    "               'weights': weights,\n",
    "               'leaf_size': leaf_size}\n",
    "knn_random = GridSearchCV(estimator = knnModel, scoring = 'accuracy', \n",
    "                         param_grid = random_grid,\n",
    "                         cv = 10)\n",
    "knn_random.fit(X,Y)\n",
    "print(knn_random.best_params_)"
   ]
  },
  {
   "cell_type": "code",
   "execution_count": 19,
   "metadata": {},
   "outputs": [
    {
     "name": "stdout",
     "output_type": "stream",
     "text": [
      "Mean Accuracy: 79.8943661971831 +- 4.461483598666032\n",
      "80.89887640449437\n"
     ]
    }
   ],
   "source": [
    "knnModel = KNeighborsClassifier(n_neighbors = 43, leaf_size = 1, weights = 'uniform')\n",
    "knnModel.fit(X,Y)\n",
    "cv_results_knn = cross_val_score(knnModel,X,Y,cv=KFold(n_splits=10,shuffle=True),scoring='accuracy')\n",
    "print(\"Mean Accuracy:\",mean(cv_results_knn)*100,\"+-\",stdev(cv_results_knn)*100)\n",
    "\n",
    "### Predicting on test data\n",
    "y_pred = knnModel.predict(test_data)\n",
    "print(accuracy_score(y_test,y_pred)*100)"
   ]
  },
  {
   "cell_type": "markdown",
   "metadata": {},
   "source": [
    "## Model - 7: Feed Forward Neural Networks"
   ]
  },
  {
   "cell_type": "code",
   "execution_count": 23,
   "metadata": {},
   "outputs": [
    {
     "name": "stderr",
     "output_type": "stream",
     "text": [
      "W1103 23:12:37.683355 44560 deprecation.py:323] From C:\\Users\\Anirudh Shankar\\Anaconda3\\lib\\site-packages\\tensorflow\\python\\ops\\nn_impl.py:180: add_dispatch_support.<locals>.wrapper (from tensorflow.python.ops.array_ops) is deprecated and will be removed in a future version.\n",
      "Instructions for updating:\n",
      "Use tf.where in 2.0, which has the same broadcast rule as np.where\n"
     ]
    },
    {
     "name": "stdout",
     "output_type": "stream",
     "text": [
      "Model: \"sequential_1\"\n",
      "_________________________________________________________________\n",
      "Layer (type)                 Output Shape              Param #   \n",
      "=================================================================\n",
      "dense_3 (Dense)              (None, 128)               1280      \n",
      "_________________________________________________________________\n",
      "dense_4 (Dense)              (None, 64)                8256      \n",
      "_________________________________________________________________\n",
      "dense_5 (Dense)              (None, 1)                 65        \n",
      "=================================================================\n",
      "Total params: 9,601\n",
      "Trainable params: 9,601\n",
      "Non-trainable params: 0\n",
      "_________________________________________________________________\n"
     ]
    },
    {
     "data": {
      "text/plain": [
       "<tensorflow.python.keras.callbacks.History at 0x2808d2f7978>"
      ]
     },
     "execution_count": 23,
     "metadata": {},
     "output_type": "execute_result"
    }
   ],
   "source": [
    "from tensorflow.keras.models import Sequential\n",
    "from tensorflow.keras.layers import Input, Dense, Dropout\n",
    "from tensorflow.keras.regularizers import l2\n",
    "from tensorflow.keras.optimizers import Adam\n",
    "\n",
    "model = Sequential()\n",
    "model.add(Input(shape = (9,)))\n",
    "model.add(Dense(128,activation = 'relu',kernel_regularizer = l2(0.01)))\n",
    "model.add(Dense(64,activation = 'relu',kernel_regularizer = l2(0.01)))\n",
    "model.add(Dense(1,activation = 'sigmoid'))\n",
    "\n",
    "model.summary()\n",
    "model.compile(optimizer = 'Adam',loss = 'binary_crossentropy',metrics = ['accuracy'])\n",
    "model.fit(X,Y,epochs = 500,verbose = 0)"
   ]
  },
  {
   "cell_type": "code",
   "execution_count": 24,
   "metadata": {},
   "outputs": [
    {
     "name": "stdout",
     "output_type": "stream",
     "text": [
      "82.02247191011236\n"
     ]
    }
   ],
   "source": [
    "### Predicting on test data\n",
    "y_pred = model.predict(test_data)\n",
    "y_pred[y_pred>=0.5] = 1.0\n",
    "y_pred[y_pred<0.5] = 0.0\n",
    "print(accuracy_score(y_test,y_pred)*100)"
   ]
  },
  {
   "cell_type": "markdown",
   "metadata": {},
   "source": [
    "## Section - 5: Ensemble Modelling by Stacking Classifiers"
   ]
  },
  {
   "cell_type": "code",
   "execution_count": 55,
   "metadata": {},
   "outputs": [
    {
     "name": "stdout",
     "output_type": "stream",
     "text": [
      "Mean Accuracy: 81.57472613458529 +- 4.900775492670931\n",
      "79.7752808988764\n"
     ]
    }
   ],
   "source": [
    "### Stacking by majority voting\n",
    "majorityVotingClassifier = VotingClassifier(estimators=[('lr', logisticRegressionModel), \n",
    "                                                        ('rf', randomForestModel), \n",
    "                                                        ('xgb',gradientBoostingModel),\n",
    "                                                        ('svm',svmModel),\n",
    "                                                        ('knn',knnModel)], voting='hard')\n",
    "majorityVotingClassifier.fit(X,Y)\n",
    "cv_results_majorityVotingClassifier = cross_val_score(majorityVotingClassifier,\n",
    "                                                      X,Y,cv=KFold(n_splits=10,shuffle=True),\n",
    "                                                      scoring='accuracy')\n",
    "print(\"Mean Accuracy:\",mean(cv_results_majorityVotingClassifier)*100,\"+-\",\n",
    "      stdev(cv_results_majorityVotingClassifier)*100)\n",
    "\n",
    "### Predicting on test data\n",
    "y_pred = majorityVotingClassifier.predict(test_data)\n",
    "print(accuracy_score(y_test,y_pred)*100)"
   ]
  },
  {
   "cell_type": "code",
   "execution_count": 63,
   "metadata": {},
   "outputs": [
    {
     "name": "stdout",
     "output_type": "stream",
     "text": [
      "Mean Accuracy: 81.71165884194053 +- 3.594911374156435\n",
      "Logistic Regression Stacking Estimator:  81.46067415730337\n",
      "Mean Accuracy: 81.57668231611893 +- 4.418736538747491\n",
      "Random Forest Stacking Estimator:  80.89887640449437\n",
      "Mean Accuracy: 78.62284820031299 +- 5.2129356736705805\n",
      "Gradient Boosting Stacking Estimator:  77.52808988764045\n",
      "Mean Accuracy: 78.62284820031299 +- 5.2129356736705805\n",
      "Nearest Neighbours Stacking Estimator:  81.46067415730337\n",
      "Mean Accuracy: 80.160406885759 +- 4.969794588434094\n",
      "SVM Stacking Estimator:  82.58426966292134\n"
     ]
    }
   ],
   "source": [
    "### Stacking by using another classifier\n",
    "estimators=[('lr', logisticRegressionModel), \n",
    "            ('rf', randomForestModel), \n",
    "            ('xgb',gradientBoostingModel),\n",
    "            ('svm',svmModel),\n",
    "            ('knn',knnModel)]\n",
    "\n",
    "''''Logistic Regression'''\n",
    "stackedClassifier_lr = StackingClassifier(estimators = estimators, \n",
    "                                          final_estimator = LogisticRegression())\n",
    "stackedClassifier_lr.fit(X,Y)\n",
    "\n",
    "cv_results_stacking_lr = cross_val_score(stackedClassifier_lr,\n",
    "                                         X,Y,cv=KFold(n_splits=10,shuffle=True),\n",
    "                                         scoring='accuracy')\n",
    "print(\"Mean Accuracy:\",mean(cv_results_stacking_lr)*100,\"+-\",\n",
    "      stdev(cv_results_stacking_lr)*100)\n",
    "y_pred = stackedClassifier_lr.predict(test_data)\n",
    "print(\"Logistic Regression Stacking Estimator: \", accuracy_score(y_test,y_pred)*100)\n",
    "\n",
    "\n",
    "'''Random Forest Classifier'''\n",
    "stackedClassifier_rf = StackingClassifier(estimators = estimators, \n",
    "                                          final_estimator = RandomForestClassifier())\n",
    "stackedClassifier_rf.fit(X,Y)\n",
    "cv_results_stacking_rf = cross_val_score(stackedClassifier_rf,\n",
    "                                        X,Y,cv=KFold(n_splits=10,shuffle=True),\n",
    "                                        scoring='accuracy')\n",
    "print(\"Mean Accuracy:\",mean(cv_results_stacking_rf)*100,\"+-\",stdev(cv_results_stacking_rf)*100)\n",
    "y_pred = stackedClassifier_rf.predict(test_data)\n",
    "print(\"Random Forest Stacking Estimator: \",accuracy_score(y_test,y_pred)*100)\n",
    "\n",
    "\n",
    "'''Gradient Boosting Classifier'''\n",
    "stackedClassifier_gbm = StackingClassifier(estimators = estimators, \n",
    "                                       final_estimator = XGBClassifier())\n",
    "stackedClassifier_gbm.fit(X,Y)\n",
    "cv_results_stacking_gbm = cross_val_score(stackedClassifier_gbm,\n",
    "                                          X,Y,cv=KFold(n_splits=10,shuffle=True),\n",
    "                                          scoring='accuracy')\n",
    "print(\"Mean Accuracy:\",mean(cv_results_stacking_gbm)*100,\"+-\",stdev(cv_results_stacking_gbm)*100)\n",
    "y_pred = stackedClassifier_gbm.predict(test_data)\n",
    "print(\"Gradient Boosting Stacking Estimator: \",accuracy_score(y_test,y_pred)*100)\n",
    "\n",
    "\n",
    "'''K-Nearest Neighbours Classifier'''\n",
    "stackedClassifier_knn = StackingClassifier(estimators = estimators, \n",
    "                                       final_estimator = KNeighborsClassifier())\n",
    "stackedClassifier_knn.fit(X,Y)\n",
    "cv_results_stacking_knn = cross_val_score(stackedClassifier_knn,\n",
    "                                          X,Y,cv=KFold(n_splits=10,shuffle=True),\n",
    "                                          scoring='accuracy')\n",
    "print(\"Mean Accuracy:\",mean(cv_results_stacking_gbm)*100,\"+-\", stdev(cv_results_stacking_gbm)*100)\n",
    "y_pred = stackedClassifier_knn.predict(test_data)\n",
    "print(\"Nearest Neighbours Stacking Estimator: \",accuracy_score(y_test,y_pred)*100)\n",
    "\n",
    "\n",
    "'''SVM Classifier'''\n",
    "stackedClassifier_svm = StackingClassifier(estimators = estimators, \n",
    "                                       final_estimator = KNeighborsClassifier())\n",
    "stackedClassifier_svm.fit(X,Y)\n",
    "cv_results_stacking_svm = cross_val_score(stackedClassifier_svm,\n",
    "                                          X,Y,cv=KFold(n_splits=10,shuffle=True),\n",
    "                                          scoring='accuracy')\n",
    "print(\"Mean Accuracy:\",mean(cv_results_stacking_svm)*100,\"+-\", stdev(cv_results_stacking_svm)*100)\n",
    "y_pred = stackedClassifier_svm.predict(test_data)\n",
    "print(\"SVM Stacking Estimator: \",accuracy_score(y_test,y_pred)*100)"
   ]
  },
  {
   "cell_type": "code",
   "execution_count": 64,
   "metadata": {},
   "outputs": [
    {
     "data": {
      "image/png": "[encoded data removed]",
      "text/plain": [
       "<Figure size 1224x720 with 1 Axes>"
      ]
     },
     "metadata": {
      "needs_background": "light"
     },
     "output_type": "display_data"
    }
   ],
   "source": [
    "### Plots to compare our different models\n",
    "data = {'Logistic Regression':cv_results_lr*100,\n",
    "       'Random Forests':cv_results_rf*100,\n",
    "       'Gradient Boosting':cv_results_gbm*100,\n",
    "       'SVM':cv_results_svm*100,\n",
    "       'KNN':cv_results_knn*100,\n",
    "       'Stacked_LR':cv_results_stacking_lr*100,\n",
    "       'Stacked_RF':cv_results_stacking_rf*100,\n",
    "       'Stacked_GBM':cv_results_stacking_gbm*100,\n",
    "       'Stacked_SVM':cv_results_stacking_svm*100,\n",
    "       'Stacked_KNN':cv_results_stacking_knn*100}\n",
    "model_results = pd.DataFrame(data = data)\n",
    "model_results = model_results.stack().reset_index()\n",
    "model_results = model_results.rename(columns = {'level_1':'Models',0:'Accuracy'})\n",
    "plt.figure(figsize=(17,10))\n",
    "fig1 = sns.boxplot(x='Models',y='Accuracy',data = model_results)"
   ]
  },
  {
   "cell_type": "code",
   "execution_count": 65,
   "metadata": {},
   "outputs": [
    {
     "name": "stdout",
     "output_type": "stream",
     "text": [
      "LR Model:  79.21348314606742\n",
      "RF Model:  80.33707865168539\n",
      "GBM Model:  79.7752808988764\n",
      "SVM Model:  79.7752808988764\n",
      "KNN Model:  80.89887640449437\n",
      "LR Stacking Estimator:  81.46067415730337\n",
      "RF Stacking Estimator:  80.89887640449437\n",
      "GBM Stacking Estimator:  77.52808988764045\n",
      "KNN Stacking Estimator:  81.46067415730337\n",
      "SVM Stacking Estimator:  82.58426966292134\n"
     ]
    }
   ],
   "source": [
    "### Predicting on Test Data\n",
    "y_pred = logisticRegressionModel.predict(test_data)\n",
    "print(\"LR Model: \",accuracy_score(y_test,y_pred)*100)\n",
    "\n",
    "y_pred = randomForestModel.predict(test_data)\n",
    "print(\"RF Model: \",accuracy_score(y_test,y_pred)*100)\n",
    "\n",
    "y_pred = gradientBoostingModel.predict(test_data)\n",
    "print(\"GBM Model: \",accuracy_score(y_test,y_pred)*100)\n",
    "\n",
    "y_pred = svmModel.predict(test_data)\n",
    "print(\"SVM Model: \",accuracy_score(y_test,y_pred)*100)\n",
    "\n",
    "y_pred = knnModel.predict(test_data)\n",
    "print(\"KNN Model: \",accuracy_score(y_test,y_pred)*100)\n",
    "\n",
    "y_pred = stackedClassifier_lr.predict(test_data)\n",
    "print(\"LR Stacking Estimator: \",accuracy_score(y_test,y_pred)*100)\n",
    "\n",
    "y_pred = stackedClassifier_rf.predict(test_data)\n",
    "print(\"RF Stacking Estimator: \",accuracy_score(y_test,y_pred)*100)\n",
    "\n",
    "y_pred = stackedClassifier_gbm.predict(test_data)\n",
    "print(\"GBM Stacking Estimator: \",accuracy_score(y_test,y_pred)*100)\n",
    "\n",
    "y_pred = stackedClassifier_knn.predict(test_data)\n",
    "print(\"KNN Stacking Estimator: \",accuracy_score(y_test,y_pred)*100)\n",
    "\n",
    "y_pred = stackedClassifier_svm.predict(test_data)\n",
    "print(\"SVM Stacking Estimator: \",accuracy_score(y_test,y_pred)*100)"
   ]
  },
  {
   "cell_type": "markdown",
   "metadata": {},
   "source": [
    "## Section - 6: Prediction on Actual Test Data"
   ]
  },
  {
   "cell_type": "code",
   "execution_count": 66,
   "metadata": {},
   "outputs": [],
   "source": [
    "### Making Actual Predictions\n",
    "actual_test_data = actual_test_data.drop(['Cabin'],axis=1)\n",
    "actual_test_data = actual_test_data.drop(['Sex'],axis=1)\n",
    "actual_test_data = actual_test_data.drop(['Embarked'],axis=1)\n",
    "\n",
    "actual_test_data = pd.DataFrame(scaler.fit_transform(actual_test_data), \n",
    "                                columns = actual_test_data.columns)\n",
    "\n",
    "imputer = KNNImputer(n_neighbors=10)\n",
    "actual_test_data = pd.DataFrame(imputer.fit_transform(actual_test_data),\n",
    "                                columns = actual_test_data.columns)"
   ]
  },
  {
   "cell_type": "code",
   "execution_count": 67,
   "metadata": {},
   "outputs": [
    {
     "name": "stdout",
     "output_type": "stream",
     "text": [
      "Saved file: submission.csv\n"
     ]
    }
   ],
   "source": [
    "test_predictions = stackedClassifier_svm.predict(actual_test_data)\n",
    "test_predictions = test_predictions.astype(int)\n",
    "passenger_id = np.arange(892,1310)\n",
    "test_results = pd.DataFrame(data = {'PassengerId':passenger_id,'Survived':test_predictions})\n",
    "test_results.to_csv('submission.csv',index = False)\n",
    "print('Saved file: ' + 'submission.csv')"
   ]
  },
  {
   "cell_type": "code",
   "execution_count": 28,
   "metadata": {},
   "outputs": [],
   "source": [
    "### Building a pickle file of our final machine learning model\n",
    "### Our final model is the stacked SVM classifier\n",
    "estimators=[('lr', logisticRegressionModel), \n",
    "            ('rf', randomForestModel), \n",
    "            ('xgb',gradientBoostingModel),\n",
    "            ('svm',svmModel),\n",
    "            ('knn',knnModel)]\n",
    "stackedClassifier_svm = StackingClassifier(estimators = estimators, \n",
    "                                       final_estimator = KNeighborsClassifier())\n",
    "stackedClassifier_svm.fit(X,Y)\n",
    "pickle.dump(stackedClassifier_svm,open('model.pkl','wb'))"
   ]
  },
  {
   "cell_type": "code",
   "execution_count": 39,
   "metadata": {},
   "outputs": [
    {
     "name": "stdout",
     "output_type": "stream",
     "text": [
      "     Pclass       Age  Members      Fare  female  male    C    Q    S\n",
      "0       0.0  0.487107      0.1  0.101497     1.0   0.0  0.0  0.0  1.0\n",
      "1       0.5  0.263247      0.0  0.050749     1.0   0.0  0.0  0.0  1.0\n",
      "2       0.5  0.249079      0.2  0.025374     1.0   0.0  0.0  0.0  1.0\n",
      "3       0.0  0.546614      0.2  0.155466     1.0   0.0  0.0  0.0  1.0\n",
      "4       1.0  0.348257      0.0  0.000000     0.0   1.0  0.0  0.0  1.0\n",
      "5       0.0  0.674129      0.1  0.077294     1.0   0.0  1.0  0.0  0.0\n",
      "6       0.5  0.178237      0.1  0.038061     1.0   0.0  0.0  0.0  1.0\n",
      "7       1.0  0.334089      0.2  0.032596     1.0   0.0  0.0  0.0  1.0\n",
      "8       0.5  0.631624      0.0  0.026350     1.0   0.0  0.0  0.0  1.0\n",
      "9       1.0  0.390762      0.2  0.028107     1.0   0.0  0.0  0.0  1.0\n",
      "10      0.0  0.617455      0.1  0.113168     1.0   0.0  1.0  0.0  0.0\n",
      "11      1.0  0.263247      0.0  0.015924     0.0   1.0  0.0  0.0  1.0\n",
      "12      0.0  0.532445      0.0  0.444099     1.0   0.0  1.0  0.0  0.0\n",
      "13      1.0  0.376594      0.2  0.021731     1.0   0.0  0.0  0.0  1.0\n",
      "14      0.0  0.234911      0.1  0.111257     1.0   0.0  0.0  0.0  1.0\n",
      "15      0.0  0.900822      0.0  0.050749     0.0   1.0  0.0  0.0  1.0\n",
      "16      0.0  0.688297      0.0  0.050610     1.0   0.0  0.0  0.0  1.0\n",
      "17      0.5  0.376594      0.0  0.025374     0.0   1.0  0.0  0.0  1.0\n",
      "18      1.0  0.404931      0.4  0.041136     1.0   0.0  0.0  0.0  1.0\n",
      "19      1.0  0.334089      0.0  0.028302     0.0   1.0  0.0  0.0  1.0\n",
      "20      0.5  0.532445      0.0  0.025374     1.0   0.0  0.0  0.0  1.0\n",
      "21      1.0  0.291584      0.0  0.015225     0.0   1.0  0.0  0.0  1.0\n",
      "22      1.0  0.355341      0.3  0.045771     1.0   0.0  0.0  0.0  1.0\n",
      "23      0.0  0.603287      0.1  0.412503     1.0   0.0  0.0  0.0  1.0\n",
      "24      0.5  0.801644      0.0  0.020495     1.0   0.0  0.0  0.0  1.0\n",
      "25      0.5  0.433267      0.2  0.051237     0.0   1.0  0.0  0.0  1.0\n",
      "26      0.0  0.815812      0.0  0.285990     1.0   0.0  1.0  0.0  0.0\n",
      "27      1.0  0.022386      0.6  0.061045     1.0   0.0  0.0  0.0  1.0\n",
      "28      1.0  0.008218      0.2  0.021731     1.0   0.0  0.0  0.0  1.0\n",
      "29      0.5  0.504109      0.0  0.025374     1.0   0.0  0.0  0.0  1.0\n",
      "..      ...       ...      ...       ...     ...   ...  ...  ...  ...\n",
      "681     1.0  0.220742      0.0  0.015176     0.0   1.0  0.0  0.0  1.0\n",
      "682     1.0  0.319921      0.0  0.015412     0.0   1.0  0.0  0.0  1.0\n",
      "683     1.0  0.378719      0.0  0.015713     0.0   1.0  0.0  0.0  1.0\n",
      "684     0.5  0.589119      0.1  0.050749     1.0   0.0  0.0  0.0  1.0\n",
      "685     1.0  0.378719      0.0  0.015713     0.0   1.0  0.0  0.0  1.0\n",
      "686     0.5  0.334089      0.2  0.028302     1.0   0.0  0.0  0.0  1.0\n",
      "687     1.0  0.361009      0.0  0.015412     0.0   1.0  0.0  0.0  1.0\n",
      "688     0.0  0.574950      0.0  0.262527     1.0   0.0  1.0  0.0  0.0\n",
      "689     1.0  0.858317      0.0  0.012175     0.0   1.0  0.0  0.0  1.0\n",
      "690     1.0  0.404931      0.1  0.013752     0.0   1.0  0.0  0.0  1.0\n",
      "691     1.0  0.378719      0.0  0.015713     0.0   1.0  0.0  0.0  1.0\n",
      "692     0.5  0.390762      0.0  0.025374     1.0   0.0  0.0  0.0  1.0\n",
      "693     0.0  0.573534      0.1  0.160387     1.0   0.0  1.0  0.0  0.0\n",
      "694     0.5  0.546614      0.0  0.025374     0.0   1.0  0.0  0.0  1.0\n",
      "695     1.0  0.433267      0.0  0.015127     0.0   1.0  0.0  1.0  0.0\n",
      "696     1.0  0.154151      1.0  0.135753     0.0   1.0  0.0  0.0  1.0\n",
      "697     0.5  0.844148      0.2  0.076123     0.0   1.0  0.0  0.0  1.0\n",
      "698     0.0  0.560782      0.0  0.054107     0.0   1.0  1.0  0.0  0.0\n",
      "699     0.0  0.716634      0.1  0.119804     0.0   1.0  1.0  0.0  0.0\n",
      "700     0.5  0.334089      0.0  0.020495     0.0   1.0  0.0  0.0  1.0\n",
      "701     1.0  0.914990      0.0  0.015127     0.0   1.0  0.0  1.0  0.0\n",
      "702     0.0  0.433267      0.1  0.111257     0.0   1.0  0.0  0.0  1.0\n",
      "703     1.0  0.361009      0.0  0.015412     0.0   1.0  0.0  0.0  1.0\n",
      "704     0.5  0.447436      0.2  0.143462     0.0   1.0  0.0  0.0  1.0\n",
      "705     0.0  0.305752      0.0  0.264739     0.0   1.0  1.0  0.0  0.0\n",
      "706     1.0  0.022386      0.1  0.020421     1.0   0.0  0.0  0.0  1.0\n",
      "707     0.5  0.404931      0.1  0.050749     1.0   0.0  0.0  0.0  1.0\n",
      "708     0.0  0.623123      0.0  0.054107     0.0   1.0  1.0  0.0  0.0\n",
      "709     0.0  0.376594      0.1  0.103644     0.0   1.0  0.0  0.0  1.0\n",
      "710     1.0  0.319921      0.0  0.015469     1.0   0.0  0.0  0.0  1.0\n",
      "\n",
      "[711 rows x 9 columns]\n",
      "[1]\n"
     ]
    }
   ],
   "source": [
    "print(X)\n",
    "model = pickle.load(open('model.pkl','rb'))\n",
    "print(model.predict(np.array([0.5, 0.478, 0.1, 0.567, 1.0, 0.0, 1.0, 0.0, 0.0]).reshape(1,-1)))"
   ]
  }
 ],
 "metadata": {
  "kernelspec": {
   "display_name": "Python 3",
   "language": "python",
   "name": "python3"
  },
  "language_info": {
   "codemirror_mode": {
    "name": "ipython",
    "version": 3
   },
   "file_extension": ".py",
   "mimetype": "text/x-python",
   "name": "python",
   "nbconvert_exporter": "python",
   "pygments_lexer": "ipython3",
   "version": "3.7.3"
  }
 },
 "nbformat": 4,
 "nbformat_minor": 4
}
